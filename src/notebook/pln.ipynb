{
  "nbformat": 4,
  "nbformat_minor": 0,
  "metadata": {
    "colab": {
      "provenance": []
    },
    "kernelspec": {
      "name": "python3",
      "display_name": "Python 3"
    },
    "language_info": {
      "name": "python"
    }
  },
  "cells": [
    {
      "cell_type": "markdown",
      "source": [
        "## Importação das bibliotecas necessárias"
      ],
      "metadata": {
        "id": "NCsOmmvgiJvD"
      }
    },
    {
      "cell_type": "code",
      "execution_count": 1,
      "metadata": {
        "id": "a3UeH74OhCyt"
      },
      "outputs": [],
      "source": [
        "import requests\n",
        "from bs4 import BeautifulSoup\n",
        "import nltk\n",
        "from nltk.corpus import stopwords\n",
        "from nltk.stem import SnowballStemmer\n",
        "from sklearn.feature_extraction.text import CountVectorizer\n",
        "import pandas as pd"
      ]
    },
    {
      "cell_type": "markdown",
      "source": [
        "## Coleta de dados das URLs"
      ],
      "metadata": {
        "id": "buAANm4EiRc5"
      }
    },
    {
      "cell_type": "markdown",
      "source": [
        "Seleção de URL's de notícias para a pesquisa das informações"
      ],
      "metadata": {
        "id": "B4oVcTGf9pVG"
      }
    },
    {
      "cell_type": "code",
      "source": [
        "urls = [\n",
        "    \"https://g1.globo.com/politica/noticia/2023/08/23/governo-faz-operacao-para-buscar-animais-sob-custodia-do-suriname-ao-chegar-la-descobre-que-alguns-foram-roubados.ghtml\",\n",
        "    \"https://g1.globo.com/bemestar/blog/longevidade-modo-de-usar/post/2023/08/24/valorizacao-da-mao-de-obra-senior-vai-aumentar-no-mundo-todo.ghtml\",\n",
        "    \"https://g1.globo.com/pop-arte/pets/noticia/2023/08/24/dormir-com-caes-e-gatos-e-perigoso-especialistas-alertam-sobre-riscos-veja-recomendacoes.ghtml\",\n",
        "    \"https://g1.globo.com/mundo/noticia/2023/08/24/putin-rompe-silencio-e-envia-condolencias-a-familia-de-lider-do-grupo-wagner.ghtml\"\n",
        "]"
      ],
      "metadata": {
        "id": "sWIhYirThJky"
      },
      "execution_count": 2,
      "outputs": []
    },
    {
      "cell_type": "markdown",
      "source": [
        "## Função para obter o texto de uma URL"
      ],
      "metadata": {
        "id": "h-Ih75GeiZX2"
      }
    },
    {
      "cell_type": "code",
      "source": [
        "def get_text_from_url(url):\n",
        "    response = requests.get(url)\n",
        "    soup = BeautifulSoup(response.text, 'html.parser')\n",
        "    paragraphs = soup.find_all('p')\n",
        "    text = ' '.join([p.get_text() for p in paragraphs])\n",
        "    return text"
      ],
      "metadata": {
        "id": "4PUd2vO6hMmm"
      },
      "execution_count": 3,
      "outputs": []
    },
    {
      "cell_type": "markdown",
      "source": [
        "#### Teste : Função que obtem texto da URL 🔍"
      ],
      "metadata": {
        "id": "GKk9lUTWJu7d"
      }
    },
    {
      "cell_type": "markdown",
      "source": [
        "Defina o teste da sua função de forma a demonstrar seu correto funcionamento. Descreva pré-condição (e.g., quais entradas devem ser fornecidas) e pós-condição (e.g., resultados esperados)."
      ],
      "metadata": {
        "id": "bHi4rSmtKCEQ"
      }
    },
    {
      "cell_type": "code",
      "source": [
        "def teste_URL():\n",
        "    example_url = 'https://g1.globo.com/politica/noticia/2023/08/23/governo-faz-operacao-para-buscar-animais-sob-custodia-do-suriname-ao-chegar-la-descobre-que-alguns-foram-roubados.ghtml'\n",
        "    result_text = get_text_from_url(example_url)\n",
        "\n",
        "    expected_result = 'fique por dentro  Por Kellen Barreto e José Vianna, TV Globo — Brasília    23/08/2023 20h53    Atualizado  24/08/2023      O mico-leão-dourado (Leontopithecus rosalia) — Foto: Leandro Jerusalinsky CPB/ICMBio   O governo federal organizou uma operação para buscar no Suriname animais silvestres brasileiros traficados e que, após serem recuperados, estavam sob custódia daquele país. Mas, ao chegar ao Suriname, as autoridades brasileiras descobriram que parte dos animais havia sido roubada enquanto estavam sob responsabilidade do governo local em uma reserva ambiental da capital Panamaribo.   As informações são do Ministério do Meio Ambiente e do Palácio do Itamaraty.   O Suriname informou que a polícia do país busca os ladrões com os animais.   Ao todo, o Brasil iria repatriar 29 araras-azuis-de-lear e 7 micos leões-dourados que haviam sido traficados.   Enquanto a equipe brasileira se deslocava para o país, durante uma escala em Belém (PA), foi informada pela embaixada do Brasil no Suriname sobre o roubo de 24 das 29 araras-azuis-de-lear.   A força policial do Suriname afirmou em nota que ninguém foi preso até o momento e que o suposto veículo usado no crime foi fotografado. Ainda não há notícias sobre o paradeiro das araras.   O g1 procurou o Ministério de Relações Exteriores, que afirmou ter tomado conhecimento sobre o roubo ainda na terça-feira (22), dia em que a operação partiu para o país vizinho.   O embaixador Raphael Azeredo também entrou em contato com o chanceler do Suriname, Albert Randim, para obter informações sobre o caso e sobre as providências tomadas.   Segundo o Itamaraty, o governo surinamês afirmou que está em coordenação com as autoridades locais responsáveis.   A operação para repatriar os animais silvestres, nativos da fauna brasileira, foi composta por veterinários do Instituto Chico Mendes de Conservação da Biodiversidade (ICMBio) e do Instituto Brasileiro do Meio Ambiente e dos Recursos Naturais Renováveis (Ibama), e policiais federais.   As equipes saíram de Brasília numa aeronave da Polícia Federal na manhã desta terça e retornaram no fim da tarde desta quarta-feira (23) para Guarulhos (SP).   Avião da PF participou de operação para buscar animais no Suriname — Foto: Polícia Federal   Em nota, a Polícia Federal afirmou que durante a missão do Suriname, iria levantar informações para apurar o tráfico dos animais, bem como identificar possíveis rotas e táticas ilegais usadas pelos biotraficantes.   Os animais que chegaram nesta quarta-feira (23) ao Brasil -- os 7 micos e 5 araras -- vão passar por avaliação sanitária, exames veterinários e reabilitação.   Depois, os micos-leões- dourado serão encaminhados para o Zoológico Municipal de Guarulhos. Já às 5 araras- azuis serão levadas para Cananéia (SP).   Um estudo mostra que dois em cada 10 animais ameaçados de extinção no mundo estão no Brasil  As espécies traficadas  A arara-azul-de-lear (Anodorhynchus leari) é uma espécie ameaçada que ocorre na caatinga baiana — Foto: Cláudia Brasileiro   A arara-azul-de-lear (Anodorhynchus leari) é uma espécie exclusiva da Caatinga do Brasil. Atualmente, integra a lista de animais em risco de extinção. A espécie é contemplada no Plano de Ação Nacional para Conservação das Aves da Caatinga e pelo Programa de Manejo Populacional da Arara-azul-de-lear.   O mico-leão-dourado também é espécie exclusiva da Mata Atlântica do Brasil, e também está na lista de animais em extinção. A espécie é contemplada no Plano de Ação Nacional para a Conservação dos Primatas da Mata Atlântica e da Preguiça-da-coleira, além do Programa de Manejo Populacional para a sua conservação.   As duas espécies têm populações extremamente reduzidas na natureza. A maior parte está restrita a Unidades de Conservação sob gestão do ICMBio.   O mico-leão-dourado é primata exclusivo do Brasil — Foto: Luciano Lima  Veja também     Há indícios de que os 4 policiais plantaram uma arma perto do corpo. Polícia diz que Ricardo Tavares foi atropelado. Ele estava desaparecido desde terça.  Gravações indicam que réus confessaram crimes sob tortura. '\n",
        "\n",
        "    if result_text == expected_result:\n",
        "        return True\n",
        "    else:\n",
        "        return False"
      ],
      "metadata": {
        "id": "e1oX8tr1H68s"
      },
      "execution_count": 4,
      "outputs": []
    },
    {
      "cell_type": "code",
      "source": [
        "teste_URL()"
      ],
      "metadata": {
        "colab": {
          "base_uri": "https://localhost:8080/"
        },
        "id": "jngHTR9vP0gq",
        "outputId": "f39f0c4f-d501-4a87-aed6-85fbb82cf798"
      },
      "execution_count": 5,
      "outputs": [
        {
          "output_type": "execute_result",
          "data": {
            "text/plain": [
              "False"
            ]
          },
          "metadata": {},
          "execution_count": 5
        }
      ]
    },
    {
      "cell_type": "markdown",
      "source": [
        "## Coleta dos textos das notícias"
      ],
      "metadata": {
        "id": "-H-Xswg4igts"
      }
    },
    {
      "cell_type": "code",
      "source": [
        "news_texts = [get_text_from_url(url) for url in urls]"
      ],
      "metadata": {
        "id": "69V3ZO3lhPqk"
      },
      "execution_count": 6,
      "outputs": []
    },
    {
      "cell_type": "markdown",
      "source": [
        "## Remoção de stopwords e stemming"
      ],
      "metadata": {
        "id": "HGvgUmsyitZU"
      }
    },
    {
      "cell_type": "code",
      "source": [
        "nltk.download('stopwords')\n",
        "stop_words = set(stopwords.words('portuguese'))\n",
        "stemmer = SnowballStemmer('portuguese')"
      ],
      "metadata": {
        "colab": {
          "base_uri": "https://localhost:8080/"
        },
        "id": "hfjWHUXbhXar",
        "outputId": "21a2cbea-5c6e-41ca-ad5c-afa7cd5ec223"
      },
      "execution_count": 7,
      "outputs": [
        {
          "output_type": "stream",
          "name": "stderr",
          "text": [
            "[nltk_data] Downloading package stopwords to /root/nltk_data...\n",
            "[nltk_data]   Unzipping corpora/stopwords.zip.\n"
          ]
        }
      ]
    },
    {
      "cell_type": "code",
      "source": [
        "def preprocess_text(text):\n",
        "    # Tokenização e remoção de stopwords\n",
        "    tokens = nltk.word_tokenize(text.lower())\n",
        "    tokens = [word for word in tokens if word.isalpha() and word not in stop_words]\n",
        "\n",
        "    # Aplicação do stemming\n",
        "    stemmed_words = [stemmer.stem(word) for word in tokens]\n",
        "\n",
        "    # Reconstrução do texto pré-processado\n",
        "    preprocessed_text = ' '.join(stemmed_words)\n",
        "\n",
        "    return preprocessed_text"
      ],
      "metadata": {
        "id": "r843CKquhYyK"
      },
      "execution_count": 8,
      "outputs": []
    },
    {
      "cell_type": "code",
      "source": [
        "nltk.download('punkt')"
      ],
      "metadata": {
        "colab": {
          "base_uri": "https://localhost:8080/"
        },
        "id": "lXvCySARheRq",
        "outputId": "0d9a850d-caab-48dc-c62c-6d6d1c283d84"
      },
      "execution_count": 9,
      "outputs": [
        {
          "output_type": "stream",
          "name": "stderr",
          "text": [
            "[nltk_data] Downloading package punkt to /root/nltk_data...\n",
            "[nltk_data]   Unzipping tokenizers/punkt.zip.\n"
          ]
        },
        {
          "output_type": "execute_result",
          "data": {
            "text/plain": [
              "True"
            ]
          },
          "metadata": {},
          "execution_count": 9
        }
      ]
    },
    {
      "cell_type": "markdown",
      "source": [
        "#### Teste: Remoção de stopwords e stemming 🔍"
      ],
      "metadata": {
        "id": "kIUu3ZsMHmwG"
      }
    },
    {
      "cell_type": "markdown",
      "source": [
        "Defina o teste da sua função de forma a demonstrar seu correto funcionamento. Descreva pré-condição (e.g., quais entradas devem ser fornecidas) e pós-condição (e.g., resultados esperados)."
      ],
      "metadata": {
        "id": "G3a1MNkxZ0Ep"
      }
    },
    {
      "cell_type": "code",
      "source": [
        "def test_preprocess():\n",
        "    test = \"O rato roeu a roupa do rei de Roma.\"\n",
        "\n",
        "    expected_result = \"rat roeu roup rei rom\"\n",
        "\n",
        "    result = preprocess_text(test)\n",
        "\n",
        "    if result == expected_result:\n",
        "       return True\n",
        "    else:\n",
        "       return False"
      ],
      "metadata": {
        "id": "Edzp2jOkHlUH"
      },
      "execution_count": 10,
      "outputs": []
    },
    {
      "cell_type": "code",
      "source": [
        "test_preprocess()"
      ],
      "metadata": {
        "colab": {
          "base_uri": "https://localhost:8080/"
        },
        "id": "lKkJiMAJYqiR",
        "outputId": "de0c5f01-4978-4729-e030-ab4c22f8c123"
      },
      "execution_count": 11,
      "outputs": [
        {
          "output_type": "execute_result",
          "data": {
            "text/plain": [
              "True"
            ]
          },
          "metadata": {},
          "execution_count": 11
        }
      ]
    },
    {
      "cell_type": "markdown",
      "source": [
        "## Aplicação do pré-processamento às notícias"
      ],
      "metadata": {
        "id": "9g1H1Fz3jc8u"
      }
    },
    {
      "cell_type": "code",
      "source": [
        "preprocessed_texts = [preprocess_text(text) for text in news_texts]"
      ],
      "metadata": {
        "id": "JV-KaH3thh-l"
      },
      "execution_count": 12,
      "outputs": []
    },
    {
      "cell_type": "markdown",
      "source": [
        "## Vetorização com Bag of Words"
      ],
      "metadata": {
        "id": "cDTG_vFbjtZ-"
      }
    },
    {
      "cell_type": "code",
      "source": [
        "vectorizer = CountVectorizer()\n",
        "X = vectorizer.fit_transform(preprocessed_texts)"
      ],
      "metadata": {
        "id": "kO5d5QhShsSz"
      },
      "execution_count": 13,
      "outputs": []
    },
    {
      "cell_type": "code",
      "source": [
        "print(preprocessed_texts)"
      ],
      "metadata": {
        "colab": {
          "base_uri": "https://localhost:8080/"
        },
        "id": "K8dyVBN_kv17",
        "outputId": "2e551fdb-7124-4a8b-ea3b-9a4b228f8390"
      },
      "execution_count": 14,
      "outputs": [
        {
          "output_type": "stream",
          "name": "stdout",
          "text": [
            "['fiqu dentr kellen barret jos viann tv glob brasíl atualiz leontopithecus rosal fot leandr jerusalinsky govern federal organiz oper busc surinam anim silvestr brasileir trafic após ser recuper sob custód daquel país cheg surinam autor brasileir descobr part anim hav sid roub enquant sob respons govern local reserv ambiental capital panamarib inform ministéri mei ambient paláci itamaraty surinam inform políc país busc ladrõ anim tod brasil iri repatri mic hav sid trafic enquant equip brasileir desloc país durant escal belém pa inform embaix brasil surinam sobr roub forc policial surinam afirm not ninguém pres moment supost veícul usad crim fotograf aind notíc sobr paradeir arar procur ministéri relaçõ exterior afirm ter tom conhec sobr roub aind dia oper part país vizinh embaix raphael azered entrou contat chancel surinam albert randim obter inform sobr cas sobr provident tom segund itamaraty govern surinamês afirm coorden autor loc respons oper repatri anim silvestr nativ faun brasileir compost veterinári institut chic mend conserv biodivers icmbi institut brasileir mei ambient recurs natur renov ibam polic feder equip saír brasíl aeronav políc federal manhã dest terc retorn fim tard dest guarulh sp aviã pf particip oper busc anim surinam fot políc federal not políc federal afirm durant missã surinam iri levant inform apur tráfic anim bem identific possív rot tátic ileg usad biotrafic anim cheg nest brasil mic arar vã pass avali sanitár exam veterinári reabilit dour encaminh zoológ municipal guarulh azu lev canan sp estud mostr dois cad anim ameac extinçã mund brasil espéc trafic anodorhynchus lear espéc ameac ocorr caating baian fot cláud brasileir anodorhynchus lear espéc exclus caating brasil atual integr list anim risc extinçã espéc contempl plan açã nacional conserv aves caating program manej populacional espéc exclus mat atlânt brasil list anim extinçã espéc contempl plan açã nacional conserv primat mat atlânt além program manej populacional conserv duas espéc têm popul extrem reduz natur maior part restrit unidad conserv sob gestã icmbi primat exclus brasil fot lucian lim vej políc neg ediçã imagens admit intercorrent durant gravaçõ lei estabelec conselh tutel dev acion ness cas model exempl internacional principal gargal moment doaçã chef exércit mercenári aviã caiu pesso financ fund r bi projet dá rend extra comun tradicion florest par amap', 'fiqu dentr mariz tav rio janeir atualiz envelhec popul cad vez idos busc empreg brasil seman pass reportag apresent jornal nacional diz proporçã trabalh brasileir anos hav cresc segund ibge particip pesso ness faix etár merc hav pass equivalent quas milhõ empreg fenômen mundial aind robust outr país mã obra sênior tem aind faz part agend empres brasileir fot yurity kutovoy pixabay acord pesquis consultor internacional brain company cerc milhõ post trabalh irã pesso acim anos naçõ reún princip econom planet alemanh canad eua franc itál japã rein unid entant advert pouc empres prepar integr velh ambient multigeracional exempl reforc habil áre digital grand erro pesso viv mantêm habil períod temp maior enquant men jovens entram merc porqu cas têm númer bem menor filh pass anos estud companh dã cont mã obra sênior própr demand prioridad muit vez motiv trabalh madur possibil faz algo relev sociedad além ter autonom flexibil horári japã falt mã obra tã sev ano pass quatr cad dez empres recrut gent acim anos estim déficit milhõ trabalh obrig país recrut quas milhõ estrangeir alemanh naçã onde cad cinc habit anos invest autom robôs desempenh taref fisic desgast torn ambient amig funcionári idos brasil patin ness cenári levant realiz ey brasil startup matur especializ segment send divulg hoj sext ediçã maturifest mostr empres evoluír relaçã questã envelhec apes maior aleg açõ andament prest ser inic tem aind faz part estratég negóci pior julh julh númer vag abert caiu vej políc neg ediçã imagens admit intercorrent durant gravaçõ lei estabelec conselh tutel dev acion ness cas model exempl internacional principal gargal moment doaçã chef exércit mercenári aviã caiu pesso financ fund r bi projet dá rend extra comun tradicion florest par amap', 'fiqu dentr matheus rodrigu atualiz especial faz alert sobr tutor divid cam pets compartilh cam pets hábit muit tutor anim estim prátic apes ter contraindic médic pod traz risc tant bichinh quant tutor princípi contraindic animal dorm tutor alguns aspect consider exist pesso quadr alérg anim nest cas pesso alerg animal pod dentr cas afirm marcel otsuk depart infectolog sociedad pediatr sp otsuk explic aind rar situaçõ anim transmit doenc don quas tod cas transmissor pets acess higien básic alguns cuid simpl suficient estabelec relaçã benefíci mútu hom cachorr dorm mesm cam fot michael stock bebês pequen têm capac defend gent recomend contat próxim anim gost fic pert human precis vigi caus sufoc outr lad cam altas pod risc anim pequen port gent precis ter cuid ambos lad diss marcel otsuk vej list recomend cachorr compartilh cam mulh enquant dorm fot stock procur conselh federal medicin veterinár cfmv president comissã animal cob cfmv kellen oliveir list algum recomend higieniz pat faz passei extern dorm pet observ ectoparasit pulg carrapat faz tratament imediat ectoparasit pod caus doenc anim esquem vacinal tutor pet ramp escad acess cam evit acident rosângel geb membr cob alert sobr qua cuid veterinári necessári pet transmit doenc principal antirráb doenc zoonos porém dia vacin polivalent múltipl além aplic vermífug profilax ectoparasit atualiz sempr pet sin sintom doenc tutor dev busc auxíli veterinári corret diagnóst tratament precoc possível afirm vej políc neg ediçã imagens admit intercorrent durant gravaçõ lei estabelec conselh tutel dev acion ness cas model exempl internacional principal gargal moment doaçã chef exércit mercenári aviã caiu pesso financ fund r bi projet dá rend extra comun tradicion florest par amap', 'fiqu dentr atualiz vej qued aviã deix mort rúss prigozhin list passageir quas hor após qued aviã mosc cuj list passageir nom líd grup wagn yevgeny prigozohin president rúss vladim putin romp silênci sobr cas discurs transmit tvs país putin antig ali prigozhin envi condolent famíl líd grup mercenári mort entant hav sid confirm nenhum autor form oficial últim atualiz dest notíc após notíc aviã passageir pequen port hav caíd arredor mosc imprens local divulg prigozhin aeronav tard agênc civil aviaçã russ confirm líd grup wagn figur list passageir cheg embarc prigozhin pesso destin complic comet erros grav vid procur alcanc result necessári tant si moment ped caus comum nest últim mes declar president russ sobr caus aind desconhec qued aviã vladim putin diss precis esper dirã investig cas afirm ter press mencion rompiment recent dois putin cham prigozhin empresári talent diss desd anos dois fort ali romp após mercenári lider rebeliã contr govern russ protest falt envi equip armas trop grup wagn lut ucrân lad rúss discurs após motim grup wagn acontec junh dur cerc hor putin cheg cham antig amig traidor famíl prigozhin hav pronunc últim atualiz dest notíc lei chef pessoal putin líd rebeliã yevgeny prigozhinvíd mostr qued aviã deix mort rússiachef grup wagn prigozhin outr acident aér vladim putin yevgeny prigozhin fot gavriil grigorov sputnik kremlin pool phot via ap oficin prens prigozhin vía ap vej políc neg ediçã imagens admit intercorrent durant gravaçõ lei estabelec conselh tutel dev acion ness cas model exempl internacional principal gargal moment doaçã chef exércit mercenári aviã caiu pesso financ fund r bi projet dá rend extra comun tradicion florest par amap']\n"
          ]
        }
      ]
    },
    {
      "cell_type": "markdown",
      "source": [
        "## Criação dos dataframes (processado e original) e merge deles"
      ],
      "metadata": {
        "id": "urw5Y-p1j0PM"
      }
    },
    {
      "cell_type": "code",
      "source": [
        "df_processed = pd.DataFrame(X.toarray(), columns=vectorizer.get_feature_names_out())"
      ],
      "metadata": {
        "id": "Ms6qv10Mhuqp"
      },
      "execution_count": 15,
      "outputs": []
    },
    {
      "cell_type": "code",
      "source": [
        "df_original = pd.DataFrame({'Texto Original': news_texts})\n"
      ],
      "metadata": {
        "id": "7Fyv2TVJQTLY"
      },
      "execution_count": 16,
      "outputs": []
    },
    {
      "cell_type": "code",
      "source": [
        "print(df_original)"
      ],
      "metadata": {
        "colab": {
          "base_uri": "https://localhost:8080/"
        },
        "id": "MwGzf9mKQXMS",
        "outputId": "0ae6caad-a698-41c7-8608-24e86c36e58b"
      },
      "execution_count": 17,
      "outputs": [
        {
          "output_type": "stream",
          "name": "stdout",
          "text": [
            "                                      Texto Original\n",
            "0  fique por dentro  Por Kellen Barreto e José Vi...\n",
            "1  fique por dentro  Por Mariza Tavares — Rio de ...\n",
            "2  fique por dentro  Por Matheus Rodrigues, g1   ...\n",
            "3  fique por dentro  Por g1    24/08/2023 13h00  ...\n"
          ]
        }
      ]
    },
    {
      "cell_type": "code",
      "source": [
        "print(df_processed)"
      ],
      "metadata": {
        "colab": {
          "base_uri": "https://localhost:8080/"
        },
        "id": "k6J4Ca71QYGN",
        "outputId": "091cdc69-6690-4ca5-a583-4feded47fc78"
      },
      "execution_count": 18,
      "outputs": [
        {
          "output_type": "stream",
          "name": "stdout",
          "text": [
            "   abert  acess  acident  acim  acion  acontec  acord  admit  advert  aeronav  \\\n",
            "0      0      0        0     0      1        0      0      1       0        1   \n",
            "1      1      0        0     2      1        0      1      1       1        0   \n",
            "2      0      2        1     0      1        0      0      1       0        0   \n",
            "3      0      0        1     0      1        1      0      1       0        1   \n",
            "\n",
            "   ...  vladim  vã  vía  wagn  yevgeny  yurity  zoológ  zoonos  áre  últim  \n",
            "0  ...       0   1    0     0        0       0       1       0    0      0  \n",
            "1  ...       0   0    0     0        0       1       0       0    1      0  \n",
            "2  ...       0   0    0     0        0       0       0       1    0      0  \n",
            "3  ...       3   0    1     5        3       0       0       0    0      3  \n",
            "\n",
            "[4 rows x 606 columns]\n"
          ]
        }
      ]
    },
    {
      "cell_type": "code",
      "source": [
        "df_original.reset_index(drop=True, inplace=True)\n",
        "df_processed.reset_index(drop=True, inplace=True)\n",
        "\n",
        "\n",
        "combined_df = pd.merge(df_original, df_processed, left_index=True, right_index=True)\n",
        "\n",
        "print(combined_df)"
      ],
      "metadata": {
        "colab": {
          "base_uri": "https://localhost:8080/"
        },
        "id": "DTiMhFxvQa7l",
        "outputId": "9bc14a8d-2550-4566-8f5a-a7d40c552a10"
      },
      "execution_count": 19,
      "outputs": [
        {
          "output_type": "stream",
          "name": "stdout",
          "text": [
            "                                      Texto Original  abert  acess  acident  \\\n",
            "0  fique por dentro  Por Kellen Barreto e José Vi...      0      0        0   \n",
            "1  fique por dentro  Por Mariza Tavares — Rio de ...      1      0        0   \n",
            "2  fique por dentro  Por Matheus Rodrigues, g1   ...      0      2        1   \n",
            "3  fique por dentro  Por g1    24/08/2023 13h00  ...      0      0        1   \n",
            "\n",
            "   acim  acion  acontec  acord  admit  advert  ...  vladim  vã  vía  wagn  \\\n",
            "0     0      1        0      0      1       0  ...       0   1    0     0   \n",
            "1     2      1        0      1      1       1  ...       0   0    0     0   \n",
            "2     0      1        0      0      1       0  ...       0   0    0     0   \n",
            "3     0      1        1      0      1       0  ...       3   0    1     5   \n",
            "\n",
            "   yevgeny  yurity  zoológ  zoonos  áre  últim  \n",
            "0        0       0       1       0    0      0  \n",
            "1        0       1       0       0    1      0  \n",
            "2        0       0       0       1    0      0  \n",
            "3        3       0       0       0    0      3  \n",
            "\n",
            "[4 rows x 607 columns]\n"
          ]
        }
      ]
    },
    {
      "cell_type": "markdown",
      "source": [
        "#### Pipeline"
      ],
      "metadata": {
        "id": "VXeVqsgoS5ij"
      }
    },
    {
      "cell_type": "code",
      "source": [
        "def get_text_from_url(exemplo_url):\n",
        "    response = requests.get(exemplo_url)\n",
        "    soup = BeautifulSoup(response.text, 'html.parser')\n",
        "    paragraphs = soup.find_all('p')\n",
        "    text = ' '.join([p.get_text() for p in paragraphs])\n",
        "    return text\n",
        "\n",
        "def preprocess_text(text):\n",
        "    # Tokenização e remoção de stopwords\n",
        "    tokens = nltk.word_tokenize(text.lower())\n",
        "    tokens = [word for word in tokens if word.isalpha() and word not in stop_words]\n",
        "\n",
        "    # Aplicação do stemming\n",
        "    stemmed_words = [stemmer.stem(word) for word in tokens]\n",
        "\n",
        "    # Reconstrução do texto pré-processado\n",
        "    preprocessed_text = ' '.join(stemmed_words)\n",
        "\n",
        "    return preprocessed_text"
      ],
      "metadata": {
        "id": "G7LA2Hc4S9U6"
      },
      "execution_count": 20,
      "outputs": []
    },
    {
      "cell_type": "code",
      "source": [
        "def test_pipeline():\n",
        "    exemplo_url = 'https://g1.globo.com/politica/noticia/2023/08/23/governo-faz-operacao-para-buscar-animais-sob-custodia-do-suriname-ao-chegar-la-descobre-que-alguns-foram-roubados.ghtml'\n",
        "\n",
        "    texto_obtido = get_text_from_url(exemplo_url)\n",
        "    result = preprocess_text(texto_obtido)\n",
        "    expected_result = \"fiqu dentr kellen barret jos viann tv glob brasíl atualiz leontopithecus rosal fot leandr jerusalinsky govern federal organiz oper busc surinam anim silvestr brasileir trafic após ser recuper sob custód daquel país cheg surinam autor brasileir descobr part anim hav sid roub enquant sob respons govern local reserv ambiental capital panamarib inform ministéri mei ambient paláci itamaraty surinam inform políc país busc ladrõ anim tod brasil iri repatri mic hav sid trafic enquant equip brasileir desloc país durant escal belém pa inform embaix brasil surinam sobr roub forc policial surinam afirm not ninguém pres moment supost veícul usad crim fotograf aind notíc sobr paradeir arar procur ministéri relaçõ exterior afirm ter tom conhec sobr roub aind dia oper part país vizinh embaix raphael azered entrou contat chancel surinam albert randim obter inform sobr cas sobr provident tom segund itamaraty govern surinamês afirm coorden autor loc respons oper repatri anim silvestr nativ faun brasileir compost veterinári institut chic mend conserv biodivers icmbi institut brasileir mei ambient recurs natur renov ibam polic feder equip saír brasíl aeronav políc federal manhã dest terc retorn fim tard dest guarulh sp aviã pf particip oper busc anim surinam fot políc federal not políc federal afirm durant missã surinam iri levant inform apur tráfic anim bem identific possív rot tátic ileg usad biotrafic anim cheg nest brasil mic arar vã pass avali sanitár exam veterinári reabilit dour encaminh zoológ municipal guarulh azu lev canan sp estud mostr dois cad anim ameac extinçã mund brasil espéc trafic anodorhynchus lear espéc ameac ocorr caating baian fot cláud brasileir anodorhynchus lear espéc exclus caating brasil atual integr list anim risc extinçã espéc contempl plan açã nacional conserv aves caating program manej populacional espéc exclus mat atlânt brasil list anim extinçã espéc contempl plan açã nacional conserv primat mat atlânt além program manej populacional conserv duas espéc têm popul extrem reduz natur maior part restrit unidad conserv sob gestã icmbi primat exclus brasil fot lucian lim vej julgament interromp após mendonc ped vist praz retom dias dat mesm acontec atos golpist brasíl\"\n",
        "    if result == expected_result:\n",
        "        return True\n",
        "    else:\n",
        "        return False"
      ],
      "metadata": {
        "id": "_7mWLEtOVCPh"
      },
      "execution_count": 21,
      "outputs": []
    },
    {
      "cell_type": "code",
      "source": [
        "test_pipeline()"
      ],
      "metadata": {
        "colab": {
          "base_uri": "https://localhost:8080/"
        },
        "id": "uY2m149ltcTn",
        "outputId": "67d28079-891f-4868-acde-7d2884cfbe27"
      },
      "execution_count": 22,
      "outputs": [
        {
          "output_type": "execute_result",
          "data": {
            "text/plain": [
              "False"
            ]
          },
          "metadata": {},
          "execution_count": 22
        }
      ]
    },
    {
      "cell_type": "markdown",
      "source": [
        "# Visão geral do Algoritmo"
      ],
      "metadata": {
        "id": "9le7AYGDrVqs"
      }
    },
    {
      "cell_type": "markdown",
      "source": [
        "### Este documento descreve o algoritmo de Processamento de Linguagem Natural (NLP) utilizado em um sistema de análise de textos a partir de URLs de notícias. O algoritmo tem como objetivo coletar, pré-processar e vetorizar o texto de várias notícias em língua portuguesa. Ele utiliza técnicas como tokenização, remoção de stopwords, stemming e a abordagem Bag of Words (BoW) para representar o texto em formato numérico.\n",
        "\n"
      ],
      "metadata": {
        "id": "SQvxWP-xrYLP"
      }
    },
    {
      "cell_type": "markdown",
      "source": [
        "# Bibliotecas e Frameworks utilizados:"
      ],
      "metadata": {
        "id": "ECDDHyIcsP9C"
      }
    },
    {
      "cell_type": "markdown",
      "source": [
        "### **requests:** Uma biblioteca Python para fazer requisições HTTP para recuperar o conteúdo das URLs.\n",
        "\n",
        "### **BeautifulSoup:** Uma biblioteca Python para análise HTML, usada para extrair texto de páginas da web.\n",
        "\n",
        "### **nltk (Natural Language Toolkit):** Uma biblioteca Python amplamente utilizada para processamento de linguagem natural, incluindo tokenização, stemming e disponibilização de stopwords.\n",
        "\n",
        "### **sklearn (Scikit-Learn):** Uma biblioteca Python para aprendizado de máquina, usada aqui para implementar a vetorização do BoW.\n",
        "\n",
        "### **pandas:** Uma biblioteca Python para análise de dados, utilizada para estruturar os dados resultantes."
      ],
      "metadata": {
        "id": "APn9xZIUiTL3"
      }
    },
    {
      "cell_type": "markdown",
      "source": [
        "# Passo 1: Coleta de URLs"
      ],
      "metadata": {
        "id": "TxwIX06njjm0"
      }
    },
    {
      "cell_type": "markdown",
      "source": [
        "### Neste passo, o código define uma lista de URLs de notícias de onde os textos serão coletados para análise.\n",
        "\n"
      ],
      "metadata": {
        "id": "7WxAnOchj972"
      }
    },
    {
      "cell_type": "markdown",
      "source": [
        "# Passo 2: Coleta de Dados a partir das URLs"
      ],
      "metadata": {
        "id": "9Uu1x3QqkFjD"
      }
    },
    {
      "cell_type": "markdown",
      "source": [
        "### Neste passo, o código utiliza a biblioteca requests para fazer requisições HTTP às URLs das notícias e a biblioteca BeautifulSoup para extrair o texto do conteúdo HTML das páginas. O texto extraído é armazenado na lista news_texts."
      ],
      "metadata": {
        "id": "R4DX-NfUkOWn"
      }
    },
    {
      "cell_type": "markdown",
      "source": [
        "# Passo 3: Pré-processamento de Texto"
      ],
      "metadata": {
        "id": "8r4YVTe5kfIK"
      }
    },
    {
      "cell_type": "markdown",
      "source": [
        "## Tokenização"
      ],
      "metadata": {
        "id": "kpWztAbikhjt"
      }
    },
    {
      "cell_type": "markdown",
      "source": [
        "### Tokenização é o processo de dividir o texto em palavras ou tokens individuais. Isso é realizado utilizando a função **´nltk.word_tokenize´**, que divide o texto em tokens."
      ],
      "metadata": {
        "id": "MdIcotDCkxGT"
      }
    },
    {
      "cell_type": "markdown",
      "source": [
        "## Remoção de Stopwords"
      ],
      "metadata": {
        "id": "XweZjnj_kkkB"
      }
    },
    {
      "cell_type": "markdown",
      "source": [
        "### Stopwords são palavras comuns que geralmente não contêm informações significativas. O código utiliza a lista de stopwords em português fornecida pelo NLTK e remove essas palavras dos tokens, mantendo apenas as palavras relevantes."
      ],
      "metadata": {
        "id": "ujrJq2l7k77-"
      }
    },
    {
      "cell_type": "markdown",
      "source": [
        "## Stemming"
      ],
      "metadata": {
        "id": "0L9-j2Jukqow"
      }
    },
    {
      "cell_type": "markdown",
      "source": [
        "### O stemming é o processo de reduzir palavras à sua forma raiz (stem). O código utiliza o stemmer SnowballStemmer da língua portuguesa para reduzir as palavras à sua forma raiz. Isso ajuda a reduzir as variações das palavras, tornando a análise mais consistente."
      ],
      "metadata": {
        "id": "PVLrST6glBKi"
      }
    },
    {
      "cell_type": "markdown",
      "source": [
        "# Passo 4: Vetorização com Bag of Words (BoW)"
      ],
      "metadata": {
        "id": "oW20GOZrlE4M"
      }
    },
    {
      "cell_type": "markdown",
      "source": [
        "### O Bag of Words (BoW) é uma técnica que representa o texto como um conjunto de palavras e suas contagens. O código utiliza a classe CountVectorizer do Scikit-Learn para transformar o texto pré-processado em uma matriz numérica onde cada coluna representa uma palavra única e cada célula contém a contagem dessa palavra no texto. O resultado é armazenado na matriz X."
      ],
      "metadata": {
        "id": "ldXmcdmclO3Q"
      }
    },
    {
      "cell_type": "markdown",
      "source": [
        "# Passo 5: Criação de um DataFrame com as Palavras Tratadas"
      ],
      "metadata": {
        "id": "keFUrPPElqNv"
      }
    },
    {
      "cell_type": "markdown",
      "source": [
        "### As palavras tratadas após o pré-processamento são armazenadas em um DataFrame do Pandas. Isso facilita a análise subsequente dos dados."
      ],
      "metadata": {
        "id": "_qsy2RPllsY3"
      }
    },
    {
      "cell_type": "markdown",
      "source": [
        "# Passo 6: Criação de um DataFrame com os Textos Originais"
      ],
      "metadata": {
        "id": "Yv6jf91Blyid"
      }
    },
    {
      "cell_type": "markdown",
      "source": [
        "### Os textos originais coletados das URLs também são armazenados em um DataFrame do Pandas. Isso permite comparar os textos originais com as palavras tratadas."
      ],
      "metadata": {
        "id": "ltvzM9Hnl0mQ"
      }
    },
    {
      "cell_type": "markdown",
      "source": [
        "# Mesclagem de DataFrames"
      ],
      "metadata": {
        "id": "zbQMxevTl8qa"
      }
    },
    {
      "cell_type": "markdown",
      "source": [
        "### Os DataFrames com os textos originais e as palavras tratadas são mesclados com base em seus índices, criando um DataFrame combinado. Isso permite que você associe as palavras tratadas de volta aos textos originais, se necessário."
      ],
      "metadata": {
        "id": "m31IDOIpmGFD"
      }
    },
    {
      "cell_type": "markdown",
      "source": [
        "# Exemplo de Saída"
      ],
      "metadata": {
        "id": "M9IcWcIIl88p"
      }
    },
    {
      "cell_type": "markdown",
      "source": [
        "### Os DataFrames resultantes, **´df_original´** e **´df_processed´**, são impressos no console, permitindo a visualização dos textos originais e das palavras tratadas. Além disso, o DataFrame combinado, **´combined_df´**, é gerado para uma análise mais integrada dos dados.\n",
        "\n",
        "### Este algoritmo é útil para transformar texto de notícias em um formato numérico que pode ser utilizado em análises de texto, aprendizado de máquina e outras tarefas de processamento de linguagem natural. Ele ajuda a simplificar e estruturar os dados de texto para uma análise mais eficaz e insights valiosos."
      ],
      "metadata": {
        "id": "-swTITvVmNEn"
      }
    }
  ]
}